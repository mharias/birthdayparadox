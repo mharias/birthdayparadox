{
 "cells": [
  {
   "cell_type": "markdown",
   "metadata": {},
   "source": [
    "## Problema del  Cumpleaños\n",
    "En una habitación encontramos n personas. ¿Cuál es el número n más bajo que asegura que tengas más de un 50% de posibilidades de que dos cualesquiera de ellas cumplan años en el mismo día?"
   ]
  },
  {
   "cell_type": "markdown",
   "metadata": {},
   "source": [
    "## Solución\n",
    "Calculemos la probabilidad de que no coincidan en su día de cumpleaños dos personas. Para ello damos por hecho que una de ellas ya se encuentra en la habitación y  a continuación entra la segunda. ¿Qué probabilidad tiene de NO coincidir en su día de cumpleaños con la que ya está?, pués 364 entre 365, tiene 364 posibles días..todo el año excepto el día en el que nació la primera persona : \n",
    "\n",
    "$$ p\\_no\\_coincidencia_{2}= 364/365= 0.0027397 $$\n",
    "\n",
    "luego la probabilidad de coincidencia es la complementaria : \n",
    "\n",
    "$$p_{2}=1- p\\_no\\_coincidencia_{2}= 1-364/365$$\n",
    "\n",
    "A continuación entra una tercera persona. ¿Qué probabilidad hay de que NO coincidan ninguna de las tres? : pues la multiplicación de dos probabilidades, la probabilidad de que la tercera no concida con ninguna de las dos exsitente (363/365) multiplicada por la probabilidad de que los dos primeras no hayan nacido el mismo día : $p\\_no\\_coincidencia_{2}$\n",
    "\n",
    "$$p\\_no\\_coincidencia_{3}=\\frac{363}{365}p\\_no\\_coincidencia_{2} = \\frac{363*364}{365*365}$$\n",
    "\n",
    "y de igual manera la probabilidad de coincidencia para tres personas será tal que :\n",
    "\n",
    "$$p_3=1-p\\_no\\_coincidencia_{3}=1-\\frac{363*364}{365*365}=0.008204$$\n",
    "\n",
    "A continuación entra una cuarta. Siguiendo el mismo razonamiento encontramos que la probabilidad  de NO coincidencia de ninguna de las cuatro es tal que multiplicar la probabilidad de que la cuarta no coincida con ninguna de las tres existentes multiplicado por la probabilidad de que las tres ya existente  no coincidan tampoco : \n",
    "$$p\\_no\\_coincidencia_{4}=\\frac{362}{365}p\\_no\\_coincidencia_{3} = \\frac{362*363*364}{365*365*365}$$\n",
    "\n",
    "y de igual manera la probabilidad de coincidencia será : \n",
    "$$p_4=1-p\\_no\\_coincidencia_{4}=1-\\frac{362*363*364}{365*365*365}=0.0163559$$\n",
    "\n",
    "Y podemos generalizar fórmula genérica tal que :  \n",
    "$$  \\large p_{i}=\\left (1-\\frac{364 !}{(365-i)! \\enspace 365^{i-1}}\\right) \\enspace \\forall i \\in \\mathbb{N}_{>1} $$\n",
    "\n",
    "Bastará con ir incrementando i, hasta que la probabilidad calculada sea mayor que 0,5 .\n",
    "\n",
    "Vamos a realizar esos cálculos con unas líneas de Python : "
   ]
  },
  {
   "cell_type": "markdown",
   "metadata": {},
   "source": [
    "Empecemos importando una serie de librerías que nos ayudarán a realizar esos cálculos : "
   ]
  },
  {
   "cell_type": "code",
   "execution_count": 1,
   "metadata": {
    "collapsed": true
   },
   "outputs": [],
   "source": [
    "import pandas as pd\n",
    "import numpy as np\n",
    "import matplotlib.pyplot as plt\n",
    "%matplotlib inline\n",
    "import re\n",
    "import math"
   ]
  },
  {
   "cell_type": "markdown",
   "metadata": {},
   "source": [
    "Usemos una variable para el número de días en el año (asumimos que no hay bisiestos) : "
   ]
  },
  {
   "cell_type": "code",
   "execution_count": 2,
   "metadata": {
    "collapsed": true
   },
   "outputs": [],
   "source": [
    "n_dias_año=365"
   ]
  },
  {
   "cell_type": "markdown",
   "metadata": {},
   "source": [
    "Creamos una función p, que calcula la probabilidad de concidencia de n personas, codificando tal cual la fórmula que calculamos antes : "
   ]
  },
  {
   "cell_type": "code",
   "execution_count": 3,
   "metadata": {
    "collapsed": true
   },
   "outputs": [],
   "source": [
    "def p(n):\n",
    "    #nos aseguramos de que el parámetro pasado es un integer,\n",
    "    #para evitar errores en el cálculo del factorial\n",
    "    n=int(n)\n",
    "    prob_aux=math.factorial(n_dias_año-1)/\n",
    "    (math.factorial(n_dias_año-n)*n_dias_año**(n-1))\n",
    "    return 1-prob_aux"
   ]
  },
  {
   "cell_type": "markdown",
   "metadata": {},
   "source": [
    "Saquemos por pantalla una tabla con los valores, hasta, digamos, 100 personas : "
   ]
  },
  {
   "cell_type": "code",
   "execution_count": 4,
   "metadata": {
    "collapsed": true
   },
   "outputs": [],
   "source": [
    "n_max=60"
   ]
  },
  {
   "cell_type": "code",
   "execution_count": 5,
   "metadata": {},
   "outputs": [
    {
     "name": "stdout",
     "output_type": "stream",
     "text": [
      "Para  2 personas : probabilidad 0.27% \n",
      "Para  3 personas : probabilidad 0.82% \n",
      "Para  4 personas : probabilidad 1.64% \n",
      "Para  5 personas : probabilidad 2.71% \n",
      "Para  6 personas : probabilidad 4.05% \n",
      "Para  7 personas : probabilidad 5.62% \n",
      "Para  8 personas : probabilidad 7.43% \n",
      "Para  9 personas : probabilidad 9.46% \n",
      "Para 10 personas : probabilidad 11.69% \n",
      "Para 11 personas : probabilidad 14.11% \n",
      "Para 12 personas : probabilidad 16.70% \n",
      "Para 13 personas : probabilidad 19.44% \n",
      "Para 14 personas : probabilidad 22.31% \n",
      "Para 15 personas : probabilidad 25.29% \n",
      "Para 16 personas : probabilidad 28.36% \n",
      "Para 17 personas : probabilidad 31.50% \n",
      "Para 18 personas : probabilidad 34.69% \n",
      "Para 19 personas : probabilidad 37.91% \n",
      "Para 20 personas : probabilidad 41.14% \n",
      "Para 21 personas : probabilidad 44.37% \n",
      "Para 22 personas : probabilidad 47.57% \n",
      "Para 23 personas : probabilidad 50.73% \n",
      "Para 24 personas : probabilidad 53.83% \n",
      "Para 25 personas : probabilidad 56.87% \n",
      "Para 26 personas : probabilidad 59.82% \n",
      "Para 27 personas : probabilidad 62.69% \n",
      "Para 28 personas : probabilidad 65.45% \n",
      "Para 29 personas : probabilidad 68.10% \n",
      "Para 30 personas : probabilidad 70.63% \n",
      "Para 31 personas : probabilidad 73.05% \n",
      "Para 32 personas : probabilidad 75.33% \n",
      "Para 33 personas : probabilidad 77.50% \n",
      "Para 34 personas : probabilidad 79.53% \n",
      "Para 35 personas : probabilidad 81.44% \n",
      "Para 36 personas : probabilidad 83.22% \n",
      "Para 37 personas : probabilidad 84.87% \n",
      "Para 38 personas : probabilidad 86.41% \n",
      "Para 39 personas : probabilidad 87.82% \n",
      "Para 40 personas : probabilidad 89.12% \n",
      "Para 41 personas : probabilidad 90.32% \n",
      "Para 42 personas : probabilidad 91.40% \n",
      "Para 43 personas : probabilidad 92.39% \n",
      "Para 44 personas : probabilidad 93.29% \n",
      "Para 45 personas : probabilidad 94.10% \n",
      "Para 46 personas : probabilidad 94.83% \n",
      "Para 47 personas : probabilidad 95.48% \n",
      "Para 48 personas : probabilidad 96.06% \n",
      "Para 49 personas : probabilidad 96.58% \n",
      "Para 50 personas : probabilidad 97.04% \n",
      "Para 51 personas : probabilidad 97.44% \n",
      "Para 52 personas : probabilidad 97.80% \n",
      "Para 53 personas : probabilidad 98.11% \n",
      "Para 54 personas : probabilidad 98.39% \n",
      "Para 55 personas : probabilidad 98.63% \n",
      "Para 56 personas : probabilidad 98.83% \n",
      "Para 57 personas : probabilidad 99.01% \n",
      "Para 58 personas : probabilidad 99.17% \n",
      "Para 59 personas : probabilidad 99.30% \n"
     ]
    }
   ],
   "source": [
    "for i in range(2,n_max):\n",
    "    print ('Para {:>2} personas : probabilidad {:1.2f}% '.format(i,100*p(i)))"
   ]
  },
  {
   "cell_type": "markdown",
   "metadata": {},
   "source": [
    "Podemos comprobar que n=23 es nuestra solución...con una probabilidad de 50.73%.\n",
    "Además para 57 personas vemos que tenemos más de un 99% de posibilidades de que coincida el cumpleaños de dos de ellas."
   ]
  },
  {
   "cell_type": "markdown",
   "metadata": {},
   "source": [
    "Podemos dibujar esa tabla en un gráfico. Disminuimos n_max a 50 por claridad : "
   ]
  },
  {
   "cell_type": "code",
   "execution_count": 6,
   "metadata": {},
   "outputs": [
    {
     "data": {
      "image/png": "[encoded data removed]",
      "text/plain": [
       "<matplotlib.figure.Figure at 0x10ec027b8>"
      ]
     },
     "metadata": {},
     "output_type": "display_data"
    }
   ],
   "source": [
    "n_max=50\n",
    "fig1, ax1 = plt.subplots(figsize=(15, 5))\n",
    "y=[p(i) for i in np.arange(2,n_max+1)]\n",
    "x=np.arange(2,n_max+1).tolist()\n",
    "linea = ax1.plot(x,y,color='b')\n",
    "ax1.xaxis.set_ticks(x)\n",
    "ax1.yaxis.set_ticks(np.arange(0,1.01,0.1))\n",
    "ax1.set_xlabel('Nº de personas',size=16)\n",
    "ax1.set_ylabel('Probabilidad',size=16)\n",
    "ax1.tick_params(axis='x',direction='out', length=5, width=2, colors='black')\n",
    "ax1.tick_params(axis='y',direction='out', length=5, width=2, colors='black')\n",
    "ax1.grid(b=True)\n",
    "plt.plot([21,25],[.5,.5],color='g',lw=3)\n",
    "plt.plot([23,23],[0.3,0.7],color='g',lw=3)\n",
    "ax1.set_title('Probabilidad de que coincida el dia de cumpleaños de dos de ellas')\n",
    "plt.show()"
   ]
  }
 ],
 "metadata": {
  "kernelspec": {
   "display_name": "Python 3",
   "language": "python",
   "name": "python3"
  },
  "language_info": {
   "codemirror_mode": {
    "name": "ipython",
    "version": 3
   },
   "file_extension": ".py",
   "mimetype": "text/x-python",
   "name": "python",
   "nbconvert_exporter": "python",
   "pygments_lexer": "ipython3",
   "version": "3.6.1"
  },
  "widgets": {
   "application/vnd.jupyter.widget-state+json": {
    "state": {},
    "version_major": 1,
    "version_minor": 0
   }
  }
 },
 "nbformat": 4,
 "nbformat_minor": 2
}
